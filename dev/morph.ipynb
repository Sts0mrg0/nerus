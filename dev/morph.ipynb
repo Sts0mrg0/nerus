{
 "cells": [
  {
   "cell_type": "code",
   "execution_count": null,
   "metadata": {
    "scrolled": true
   },
   "outputs": [],
   "source": [
    "%run -n main.py\n",
    "!mkdir -p {DATA_DIR}\n",
    "\n",
    "s3 = S3()"
   ]
  },
  {
   "cell_type": "code",
   "execution_count": null,
   "metadata": {},
   "outputs": [],
   "source": [
    "%run -n main.py\n",
    "if not exists(LENTA):\n",
    "    s3.download(S3_LENTA, LENTA)"
   ]
  },
  {
   "cell_type": "markdown",
   "metadata": {},
   "source": [
    "# morph"
   ]
  },
  {
   "cell_type": "code",
   "execution_count": null,
   "metadata": {},
   "outputs": [],
   "source": [
    "# sudo docker run -it --rm --gpus all \\\n",
    "#     -p 8081:8080 \\\n",
    "#     -e SEQ_LEN=256 \\\n",
    "#     -e BATCH_SIZE=512 \\\n",
    "#     natasha/slovnet-morph-bert"
   ]
  },
  {
   "cell_type": "code",
   "execution_count": null,
   "metadata": {},
   "outputs": [],
   "source": [
    "%run -n main.py\n",
    "records = load_lenta(LENTA)\n",
    "records = log_progress(records, total=LENTA_TOTAL)\n",
    "items = process_morph(records)\n",
    "lines = format_jl(items)\n",
    "dump_gz_lines(lines, MORPH)"
   ]
  },
  {
   "cell_type": "code",
   "execution_count": null,
   "metadata": {},
   "outputs": [],
   "source": [
    "s3.upload(MORPH, S3_MORPH)"
   ]
  },
  {
   "cell_type": "code",
   "execution_count": null,
   "metadata": {},
   "outputs": [],
   "source": []
  }
 ],
 "metadata": {
  "kernelspec": {
   "display_name": "Python 3",
   "language": "python",
   "name": "python3"
  },
  "language_info": {
   "codemirror_mode": {
    "name": "ipython",
    "version": 3
   },
   "file_extension": ".py",
   "mimetype": "text/x-python",
   "name": "python",
   "nbconvert_exporter": "python",
   "pygments_lexer": "ipython3",
   "version": "3.6.9"
  }
 },
 "nbformat": 4,
 "nbformat_minor": 4
}
