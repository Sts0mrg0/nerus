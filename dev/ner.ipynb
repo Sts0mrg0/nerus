{
 "cells": [
  {
   "cell_type": "code",
   "execution_count": 8,
   "metadata": {},
   "outputs": [],
   "source": [
    "%run -n main.py\n",
    "!mkdir -p {DATA_DIR}\n",
    "\n",
    "s3 = S3()"
   ]
  },
  {
   "cell_type": "code",
   "execution_count": 11,
   "metadata": {},
   "outputs": [],
   "source": [
    "%run -n main.py\n",
    "if not exists(LENTA):\n",
    "    s3.download(S3_LENTA, LENTA)"
   ]
  },
  {
   "cell_type": "markdown",
   "metadata": {},
   "source": [
    "# ner"
   ]
  },
  {
   "cell_type": "code",
   "execution_count": null,
   "metadata": {},
   "outputs": [],
   "source": [
    "# sudo docker run -it --rm --gpus all \\\n",
    "#     -p 8080:8080 \\\n",
    "#     -e SEQ_LEN=256 \\\n",
    "#     -e BATCH_SIZE=512 \\\n",
    "#     natasha/slovnet-ner-bert"
   ]
  },
  {
   "cell_type": "code",
   "execution_count": null,
   "metadata": {},
   "outputs": [
    {
     "data": {
      "application/vnd.jupyter.widget-view+json": {
       "model_id": "a9238b31b40a4571b6e569780456496e",
       "version_major": 2,
       "version_minor": 0
      },
      "text/plain": [
       "HBox(children=(FloatProgress(value=0.0, max=739351.0), HTML(value='')))"
      ]
     },
     "metadata": {},
     "output_type": "display_data"
    }
   ],
   "source": [
    "%run -n main.py\n",
    "records = load_lenta(LENTA)\n",
    "records = log_progress(records, total=LENTA_TOTAL)\n",
    "items = process_ner(records)\n",
    "lines = format_jl(items)\n",
    "dump_gz_lines(lines, NER)"
   ]
  },
  {
   "cell_type": "code",
   "execution_count": null,
   "metadata": {},
   "outputs": [],
   "source": []
  }
 ],
 "metadata": {
  "kernelspec": {
   "display_name": "Python 3",
   "language": "python",
   "name": "python3"
  }
 },
 "nbformat": 4,
 "nbformat_minor": 4
}
